{
 "cells": [
  {
   "cell_type": "code",
   "execution_count": 1,
   "id": "b78179f0",
   "metadata": {},
   "outputs": [],
   "source": [
    "import pandas as pd"
   ]
  },
  {
   "cell_type": "code",
   "execution_count": 2,
   "id": "0b9d907e",
   "metadata": {},
   "outputs": [],
   "source": [
    "df = pd.read_csv('fraud_dataset_example.csv')"
   ]
  },
  {
   "cell_type": "code",
   "execution_count": 3,
   "id": "163375d3",
   "metadata": {},
   "outputs": [
    {
     "data": {
      "text/html": [
       "<div>\n",
       "<style scoped>\n",
       "    .dataframe tbody tr th:only-of-type {\n",
       "        vertical-align: middle;\n",
       "    }\n",
       "\n",
       "    .dataframe tbody tr th {\n",
       "        vertical-align: top;\n",
       "    }\n",
       "\n",
       "    .dataframe thead th {\n",
       "        text-align: right;\n",
       "    }\n",
       "</style>\n",
       "<table border=\"1\" class=\"dataframe\">\n",
       "  <thead>\n",
       "    <tr style=\"text-align: right;\">\n",
       "      <th></th>\n",
       "      <th>step</th>\n",
       "      <th>type</th>\n",
       "      <th>amount</th>\n",
       "      <th>nameOrig</th>\n",
       "      <th>oldbalanceOrg</th>\n",
       "      <th>newbalanceOrig</th>\n",
       "      <th>nameDest</th>\n",
       "      <th>oldbalanceDest</th>\n",
       "      <th>newbalanceDest</th>\n",
       "      <th>isFraud</th>\n",
       "      <th>isFlaggedFraud</th>\n",
       "    </tr>\n",
       "  </thead>\n",
       "  <tbody>\n",
       "    <tr>\n",
       "      <th>0</th>\n",
       "      <td>1</td>\n",
       "      <td>PAYMENT</td>\n",
       "      <td>9839.64</td>\n",
       "      <td>C1231006815</td>\n",
       "      <td>170136.0</td>\n",
       "      <td>160296.36</td>\n",
       "      <td>M1979787155</td>\n",
       "      <td>0.0</td>\n",
       "      <td>0.0</td>\n",
       "      <td>0</td>\n",
       "      <td>0</td>\n",
       "    </tr>\n",
       "    <tr>\n",
       "      <th>1</th>\n",
       "      <td>1</td>\n",
       "      <td>PAYMENT</td>\n",
       "      <td>1864.28</td>\n",
       "      <td>C1666544295</td>\n",
       "      <td>21249.0</td>\n",
       "      <td>19384.72</td>\n",
       "      <td>M2044282225</td>\n",
       "      <td>0.0</td>\n",
       "      <td>0.0</td>\n",
       "      <td>0</td>\n",
       "      <td>0</td>\n",
       "    </tr>\n",
       "    <tr>\n",
       "      <th>2</th>\n",
       "      <td>1</td>\n",
       "      <td>TRANSFER</td>\n",
       "      <td>181.00</td>\n",
       "      <td>C1305486145</td>\n",
       "      <td>181.0</td>\n",
       "      <td>0.00</td>\n",
       "      <td>C553264065</td>\n",
       "      <td>0.0</td>\n",
       "      <td>0.0</td>\n",
       "      <td>1</td>\n",
       "      <td>0</td>\n",
       "    </tr>\n",
       "    <tr>\n",
       "      <th>3</th>\n",
       "      <td>1</td>\n",
       "      <td>CASH_OUT</td>\n",
       "      <td>181.00</td>\n",
       "      <td>C840083671</td>\n",
       "      <td>181.0</td>\n",
       "      <td>0.00</td>\n",
       "      <td>C38997010</td>\n",
       "      <td>21182.0</td>\n",
       "      <td>0.0</td>\n",
       "      <td>1</td>\n",
       "      <td>0</td>\n",
       "    </tr>\n",
       "    <tr>\n",
       "      <th>4</th>\n",
       "      <td>1</td>\n",
       "      <td>PAYMENT</td>\n",
       "      <td>11668.14</td>\n",
       "      <td>C2048537720</td>\n",
       "      <td>41554.0</td>\n",
       "      <td>29885.86</td>\n",
       "      <td>M1230701703</td>\n",
       "      <td>0.0</td>\n",
       "      <td>0.0</td>\n",
       "      <td>0</td>\n",
       "      <td>0</td>\n",
       "    </tr>\n",
       "  </tbody>\n",
       "</table>\n",
       "</div>"
      ],
      "text/plain": [
       "   step      type    amount     nameOrig  oldbalanceOrg  newbalanceOrig  \\\n",
       "0     1   PAYMENT   9839.64  C1231006815       170136.0       160296.36   \n",
       "1     1   PAYMENT   1864.28  C1666544295        21249.0        19384.72   \n",
       "2     1  TRANSFER    181.00  C1305486145          181.0            0.00   \n",
       "3     1  CASH_OUT    181.00   C840083671          181.0            0.00   \n",
       "4     1   PAYMENT  11668.14  C2048537720        41554.0        29885.86   \n",
       "\n",
       "      nameDest  oldbalanceDest  newbalanceDest  isFraud  isFlaggedFraud  \n",
       "0  M1979787155             0.0             0.0        0               0  \n",
       "1  M2044282225             0.0             0.0        0               0  \n",
       "2   C553264065             0.0             0.0        1               0  \n",
       "3    C38997010         21182.0             0.0        1               0  \n",
       "4  M1230701703             0.0             0.0        0               0  "
      ]
     },
     "execution_count": 3,
     "metadata": {},
     "output_type": "execute_result"
    }
   ],
   "source": [
    "df.head()"
   ]
  },
  {
   "cell_type": "code",
   "execution_count": 4,
   "id": "06e4a46d",
   "metadata": {},
   "outputs": [
    {
     "data": {
      "text/plain": [
       "Index(['step', 'type', 'amount', 'nameOrig', 'oldbalanceOrg', 'newbalanceOrig',\n",
       "       'nameDest', 'oldbalanceDest', 'newbalanceDest', 'isFraud',\n",
       "       'isFlaggedFraud'],\n",
       "      dtype='object')"
      ]
     },
     "execution_count": 4,
     "metadata": {},
     "output_type": "execute_result"
    }
   ],
   "source": [
    "df.columns"
   ]
  },
  {
   "cell_type": "code",
   "execution_count": 5,
   "id": "6ef496d9",
   "metadata": {},
   "outputs": [],
   "source": [
    "df = df[[ 'isFraud','isFlaggedFraud','step', 'type', 'amount', 'nameOrig', 'oldbalanceOrg', 'newbalanceOrig',\n",
    "       'nameDest', 'oldbalanceDest', 'newbalanceDest']]"
   ]
  },
  {
   "cell_type": "code",
   "execution_count": 6,
   "id": "40a05f1e",
   "metadata": {},
   "outputs": [
    {
     "data": {
      "text/html": [
       "<div>\n",
       "<style scoped>\n",
       "    .dataframe tbody tr th:only-of-type {\n",
       "        vertical-align: middle;\n",
       "    }\n",
       "\n",
       "    .dataframe tbody tr th {\n",
       "        vertical-align: top;\n",
       "    }\n",
       "\n",
       "    .dataframe thead th {\n",
       "        text-align: right;\n",
       "    }\n",
       "</style>\n",
       "<table border=\"1\" class=\"dataframe\">\n",
       "  <thead>\n",
       "    <tr style=\"text-align: right;\">\n",
       "      <th></th>\n",
       "      <th>isFraud</th>\n",
       "      <th>isFlaggedFraud</th>\n",
       "      <th>step</th>\n",
       "      <th>type</th>\n",
       "      <th>amount</th>\n",
       "      <th>nameOrig</th>\n",
       "      <th>oldbalanceOrg</th>\n",
       "      <th>newbalanceOrig</th>\n",
       "      <th>nameDest</th>\n",
       "      <th>oldbalanceDest</th>\n",
       "      <th>newbalanceDest</th>\n",
       "    </tr>\n",
       "  </thead>\n",
       "  <tbody>\n",
       "    <tr>\n",
       "      <th>0</th>\n",
       "      <td>0</td>\n",
       "      <td>0</td>\n",
       "      <td>1</td>\n",
       "      <td>PAYMENT</td>\n",
       "      <td>9839.64</td>\n",
       "      <td>C1231006815</td>\n",
       "      <td>170136.0</td>\n",
       "      <td>160296.36</td>\n",
       "      <td>M1979787155</td>\n",
       "      <td>0.0</td>\n",
       "      <td>0.0</td>\n",
       "    </tr>\n",
       "    <tr>\n",
       "      <th>1</th>\n",
       "      <td>0</td>\n",
       "      <td>0</td>\n",
       "      <td>1</td>\n",
       "      <td>PAYMENT</td>\n",
       "      <td>1864.28</td>\n",
       "      <td>C1666544295</td>\n",
       "      <td>21249.0</td>\n",
       "      <td>19384.72</td>\n",
       "      <td>M2044282225</td>\n",
       "      <td>0.0</td>\n",
       "      <td>0.0</td>\n",
       "    </tr>\n",
       "    <tr>\n",
       "      <th>2</th>\n",
       "      <td>1</td>\n",
       "      <td>0</td>\n",
       "      <td>1</td>\n",
       "      <td>TRANSFER</td>\n",
       "      <td>181.00</td>\n",
       "      <td>C1305486145</td>\n",
       "      <td>181.0</td>\n",
       "      <td>0.00</td>\n",
       "      <td>C553264065</td>\n",
       "      <td>0.0</td>\n",
       "      <td>0.0</td>\n",
       "    </tr>\n",
       "    <tr>\n",
       "      <th>3</th>\n",
       "      <td>1</td>\n",
       "      <td>0</td>\n",
       "      <td>1</td>\n",
       "      <td>CASH_OUT</td>\n",
       "      <td>181.00</td>\n",
       "      <td>C840083671</td>\n",
       "      <td>181.0</td>\n",
       "      <td>0.00</td>\n",
       "      <td>C38997010</td>\n",
       "      <td>21182.0</td>\n",
       "      <td>0.0</td>\n",
       "    </tr>\n",
       "    <tr>\n",
       "      <th>4</th>\n",
       "      <td>0</td>\n",
       "      <td>0</td>\n",
       "      <td>1</td>\n",
       "      <td>PAYMENT</td>\n",
       "      <td>11668.14</td>\n",
       "      <td>C2048537720</td>\n",
       "      <td>41554.0</td>\n",
       "      <td>29885.86</td>\n",
       "      <td>M1230701703</td>\n",
       "      <td>0.0</td>\n",
       "      <td>0.0</td>\n",
       "    </tr>\n",
       "  </tbody>\n",
       "</table>\n",
       "</div>"
      ],
      "text/plain": [
       "   isFraud  isFlaggedFraud  step      type    amount     nameOrig  \\\n",
       "0        0               0     1   PAYMENT   9839.64  C1231006815   \n",
       "1        0               0     1   PAYMENT   1864.28  C1666544295   \n",
       "2        1               0     1  TRANSFER    181.00  C1305486145   \n",
       "3        1               0     1  CASH_OUT    181.00   C840083671   \n",
       "4        0               0     1   PAYMENT  11668.14  C2048537720   \n",
       "\n",
       "   oldbalanceOrg  newbalanceOrig     nameDest  oldbalanceDest  newbalanceDest  \n",
       "0       170136.0       160296.36  M1979787155             0.0             0.0  \n",
       "1        21249.0        19384.72  M2044282225             0.0             0.0  \n",
       "2          181.0            0.00   C553264065             0.0             0.0  \n",
       "3          181.0            0.00    C38997010         21182.0             0.0  \n",
       "4        41554.0        29885.86  M1230701703             0.0             0.0  "
      ]
     },
     "execution_count": 6,
     "metadata": {},
     "output_type": "execute_result"
    }
   ],
   "source": [
    "df.head()"
   ]
  },
  {
   "cell_type": "code",
   "execution_count": 7,
   "id": "b21634c0",
   "metadata": {},
   "outputs": [],
   "source": [
    "colunas = {\n",
    "    'isFraud': 'fraude',\n",
    "    'isFlaggedFraud':'super_fraude',\n",
    "    'step':'tempo',\n",
    "    'type':'tipo',\n",
    "    'amount':'valor',\n",
    "    'nameOrig':'cliente1',\n",
    "    'oldbalanceOrg':'saldo_inicial_c1',\n",
    "    'newbalanceOrig':'novo_saldo_c1',\n",
    "    'nameDest':'cliente2',\n",
    "    'oldbalanceDest':'saldo_inicial_c2',\n",
    "    'newbalanceDest':'novo_saldo_c2',\n",
    "}"
   ]
  },
  {
   "cell_type": "code",
   "execution_count": 8,
   "id": "6ea3b7dd",
   "metadata": {},
   "outputs": [
    {
     "data": {
      "text/html": [
       "<div>\n",
       "<style scoped>\n",
       "    .dataframe tbody tr th:only-of-type {\n",
       "        vertical-align: middle;\n",
       "    }\n",
       "\n",
       "    .dataframe tbody tr th {\n",
       "        vertical-align: top;\n",
       "    }\n",
       "\n",
       "    .dataframe thead th {\n",
       "        text-align: right;\n",
       "    }\n",
       "</style>\n",
       "<table border=\"1\" class=\"dataframe\">\n",
       "  <thead>\n",
       "    <tr style=\"text-align: right;\">\n",
       "      <th></th>\n",
       "      <th>fraude</th>\n",
       "      <th>super_fraude</th>\n",
       "      <th>tempo</th>\n",
       "      <th>tipo</th>\n",
       "      <th>valor</th>\n",
       "      <th>cliente1</th>\n",
       "      <th>saldo_inicial_c1</th>\n",
       "      <th>novo_saldo_c1</th>\n",
       "      <th>cliente2</th>\n",
       "      <th>saldo_inicial_c2</th>\n",
       "      <th>novo_saldo_c2</th>\n",
       "    </tr>\n",
       "  </thead>\n",
       "  <tbody>\n",
       "    <tr>\n",
       "      <th>0</th>\n",
       "      <td>0</td>\n",
       "      <td>0</td>\n",
       "      <td>1</td>\n",
       "      <td>PAYMENT</td>\n",
       "      <td>9839.64</td>\n",
       "      <td>C1231006815</td>\n",
       "      <td>170136.0</td>\n",
       "      <td>160296.36</td>\n",
       "      <td>M1979787155</td>\n",
       "      <td>0.0</td>\n",
       "      <td>0.0</td>\n",
       "    </tr>\n",
       "    <tr>\n",
       "      <th>1</th>\n",
       "      <td>0</td>\n",
       "      <td>0</td>\n",
       "      <td>1</td>\n",
       "      <td>PAYMENT</td>\n",
       "      <td>1864.28</td>\n",
       "      <td>C1666544295</td>\n",
       "      <td>21249.0</td>\n",
       "      <td>19384.72</td>\n",
       "      <td>M2044282225</td>\n",
       "      <td>0.0</td>\n",
       "      <td>0.0</td>\n",
       "    </tr>\n",
       "    <tr>\n",
       "      <th>2</th>\n",
       "      <td>1</td>\n",
       "      <td>0</td>\n",
       "      <td>1</td>\n",
       "      <td>TRANSFER</td>\n",
       "      <td>181.00</td>\n",
       "      <td>C1305486145</td>\n",
       "      <td>181.0</td>\n",
       "      <td>0.00</td>\n",
       "      <td>C553264065</td>\n",
       "      <td>0.0</td>\n",
       "      <td>0.0</td>\n",
       "    </tr>\n",
       "    <tr>\n",
       "      <th>3</th>\n",
       "      <td>1</td>\n",
       "      <td>0</td>\n",
       "      <td>1</td>\n",
       "      <td>CASH_OUT</td>\n",
       "      <td>181.00</td>\n",
       "      <td>C840083671</td>\n",
       "      <td>181.0</td>\n",
       "      <td>0.00</td>\n",
       "      <td>C38997010</td>\n",
       "      <td>21182.0</td>\n",
       "      <td>0.0</td>\n",
       "    </tr>\n",
       "    <tr>\n",
       "      <th>4</th>\n",
       "      <td>0</td>\n",
       "      <td>0</td>\n",
       "      <td>1</td>\n",
       "      <td>PAYMENT</td>\n",
       "      <td>11668.14</td>\n",
       "      <td>C2048537720</td>\n",
       "      <td>41554.0</td>\n",
       "      <td>29885.86</td>\n",
       "      <td>M1230701703</td>\n",
       "      <td>0.0</td>\n",
       "      <td>0.0</td>\n",
       "    </tr>\n",
       "  </tbody>\n",
       "</table>\n",
       "</div>"
      ],
      "text/plain": [
       "   fraude  super_fraude  tempo      tipo     valor     cliente1  \\\n",
       "0       0             0      1   PAYMENT   9839.64  C1231006815   \n",
       "1       0             0      1   PAYMENT   1864.28  C1666544295   \n",
       "2       1             0      1  TRANSFER    181.00  C1305486145   \n",
       "3       1             0      1  CASH_OUT    181.00   C840083671   \n",
       "4       0             0      1   PAYMENT  11668.14  C2048537720   \n",
       "\n",
       "   saldo_inicial_c1  novo_saldo_c1     cliente2  saldo_inicial_c2  \\\n",
       "0          170136.0      160296.36  M1979787155               0.0   \n",
       "1           21249.0       19384.72  M2044282225               0.0   \n",
       "2             181.0           0.00   C553264065               0.0   \n",
       "3             181.0           0.00    C38997010           21182.0   \n",
       "4           41554.0       29885.86  M1230701703               0.0   \n",
       "\n",
       "   novo_saldo_c2  \n",
       "0            0.0  \n",
       "1            0.0  \n",
       "2            0.0  \n",
       "3            0.0  \n",
       "4            0.0  "
      ]
     },
     "execution_count": 8,
     "metadata": {},
     "output_type": "execute_result"
    }
   ],
   "source": [
    "df = df.rename(columns=colunas)\n",
    "df.head()"
   ]
  },
  {
   "cell_type": "code",
   "execution_count": 9,
   "id": "eb4dc9d6",
   "metadata": {},
   "outputs": [
    {
     "data": {
      "text/html": [
       "<div>\n",
       "<style scoped>\n",
       "    .dataframe tbody tr th:only-of-type {\n",
       "        vertical-align: middle;\n",
       "    }\n",
       "\n",
       "    .dataframe tbody tr th {\n",
       "        vertical-align: top;\n",
       "    }\n",
       "\n",
       "    .dataframe thead th {\n",
       "        text-align: right;\n",
       "    }\n",
       "</style>\n",
       "<table border=\"1\" class=\"dataframe\">\n",
       "  <thead>\n",
       "    <tr style=\"text-align: right;\">\n",
       "      <th></th>\n",
       "      <th>fraude</th>\n",
       "      <th>super_fraude</th>\n",
       "      <th>tempo</th>\n",
       "      <th>valor</th>\n",
       "      <th>saldo_inicial_c1</th>\n",
       "      <th>novo_saldo_c1</th>\n",
       "      <th>saldo_inicial_c2</th>\n",
       "      <th>novo_saldo_c2</th>\n",
       "    </tr>\n",
       "  </thead>\n",
       "  <tbody>\n",
       "    <tr>\n",
       "      <th>count</th>\n",
       "      <td>101613.000000</td>\n",
       "      <td>101613.0</td>\n",
       "      <td>101613.000000</td>\n",
       "      <td>1.016130e+05</td>\n",
       "      <td>1.016130e+05</td>\n",
       "      <td>1.016130e+05</td>\n",
       "      <td>1.016130e+05</td>\n",
       "      <td>1.016130e+05</td>\n",
       "    </tr>\n",
       "    <tr>\n",
       "      <th>mean</th>\n",
       "      <td>0.001142</td>\n",
       "      <td>0.0</td>\n",
       "      <td>8.523457</td>\n",
       "      <td>1.740901e+05</td>\n",
       "      <td>9.071753e+05</td>\n",
       "      <td>9.234992e+05</td>\n",
       "      <td>8.810428e+05</td>\n",
       "      <td>1.183998e+06</td>\n",
       "    </tr>\n",
       "    <tr>\n",
       "      <th>std</th>\n",
       "      <td>0.033768</td>\n",
       "      <td>0.0</td>\n",
       "      <td>1.820681</td>\n",
       "      <td>3.450199e+05</td>\n",
       "      <td>2.829575e+06</td>\n",
       "      <td>2.867319e+06</td>\n",
       "      <td>2.399949e+06</td>\n",
       "      <td>2.797761e+06</td>\n",
       "    </tr>\n",
       "    <tr>\n",
       "      <th>min</th>\n",
       "      <td>0.000000</td>\n",
       "      <td>0.0</td>\n",
       "      <td>1.000000</td>\n",
       "      <td>3.200000e-01</td>\n",
       "      <td>0.000000e+00</td>\n",
       "      <td>0.000000e+00</td>\n",
       "      <td>0.000000e+00</td>\n",
       "      <td>0.000000e+00</td>\n",
       "    </tr>\n",
       "    <tr>\n",
       "      <th>25%</th>\n",
       "      <td>0.000000</td>\n",
       "      <td>0.0</td>\n",
       "      <td>8.000000</td>\n",
       "      <td>1.001659e+04</td>\n",
       "      <td>0.000000e+00</td>\n",
       "      <td>0.000000e+00</td>\n",
       "      <td>0.000000e+00</td>\n",
       "      <td>0.000000e+00</td>\n",
       "    </tr>\n",
       "    <tr>\n",
       "      <th>50%</th>\n",
       "      <td>0.000000</td>\n",
       "      <td>0.0</td>\n",
       "      <td>9.000000</td>\n",
       "      <td>5.338541e+04</td>\n",
       "      <td>2.019047e+04</td>\n",
       "      <td>0.000000e+00</td>\n",
       "      <td>2.105800e+04</td>\n",
       "      <td>5.178343e+04</td>\n",
       "    </tr>\n",
       "    <tr>\n",
       "      <th>75%</th>\n",
       "      <td>0.000000</td>\n",
       "      <td>0.0</td>\n",
       "      <td>10.000000</td>\n",
       "      <td>2.124984e+05</td>\n",
       "      <td>1.947150e+05</td>\n",
       "      <td>2.192178e+05</td>\n",
       "      <td>5.919217e+05</td>\n",
       "      <td>1.063122e+06</td>\n",
       "    </tr>\n",
       "    <tr>\n",
       "      <th>max</th>\n",
       "      <td>1.000000</td>\n",
       "      <td>0.0</td>\n",
       "      <td>10.000000</td>\n",
       "      <td>1.000000e+07</td>\n",
       "      <td>3.893942e+07</td>\n",
       "      <td>3.894623e+07</td>\n",
       "      <td>3.400874e+07</td>\n",
       "      <td>3.894623e+07</td>\n",
       "    </tr>\n",
       "  </tbody>\n",
       "</table>\n",
       "</div>"
      ],
      "text/plain": [
       "              fraude  super_fraude          tempo         valor  \\\n",
       "count  101613.000000      101613.0  101613.000000  1.016130e+05   \n",
       "mean        0.001142           0.0       8.523457  1.740901e+05   \n",
       "std         0.033768           0.0       1.820681  3.450199e+05   \n",
       "min         0.000000           0.0       1.000000  3.200000e-01   \n",
       "25%         0.000000           0.0       8.000000  1.001659e+04   \n",
       "50%         0.000000           0.0       9.000000  5.338541e+04   \n",
       "75%         0.000000           0.0      10.000000  2.124984e+05   \n",
       "max         1.000000           0.0      10.000000  1.000000e+07   \n",
       "\n",
       "       saldo_inicial_c1  novo_saldo_c1  saldo_inicial_c2  novo_saldo_c2  \n",
       "count      1.016130e+05   1.016130e+05      1.016130e+05   1.016130e+05  \n",
       "mean       9.071753e+05   9.234992e+05      8.810428e+05   1.183998e+06  \n",
       "std        2.829575e+06   2.867319e+06      2.399949e+06   2.797761e+06  \n",
       "min        0.000000e+00   0.000000e+00      0.000000e+00   0.000000e+00  \n",
       "25%        0.000000e+00   0.000000e+00      0.000000e+00   0.000000e+00  \n",
       "50%        2.019047e+04   0.000000e+00      2.105800e+04   5.178343e+04  \n",
       "75%        1.947150e+05   2.192178e+05      5.919217e+05   1.063122e+06  \n",
       "max        3.893942e+07   3.894623e+07      3.400874e+07   3.894623e+07  "
      ]
     },
     "execution_count": 9,
     "metadata": {},
     "output_type": "execute_result"
    }
   ],
   "source": [
    "df.describe()"
   ]
  },
  {
   "cell_type": "code",
   "execution_count": 10,
   "id": "f90b5056",
   "metadata": {},
   "outputs": [
    {
     "data": {
      "text/html": [
       "<div>\n",
       "<style scoped>\n",
       "    .dataframe tbody tr th:only-of-type {\n",
       "        vertical-align: middle;\n",
       "    }\n",
       "\n",
       "    .dataframe tbody tr th {\n",
       "        vertical-align: top;\n",
       "    }\n",
       "\n",
       "    .dataframe thead th {\n",
       "        text-align: right;\n",
       "    }\n",
       "</style>\n",
       "<table border=\"1\" class=\"dataframe\">\n",
       "  <thead>\n",
       "    <tr style=\"text-align: right;\">\n",
       "      <th></th>\n",
       "      <th>count</th>\n",
       "      <th>mean</th>\n",
       "      <th>std</th>\n",
       "      <th>min</th>\n",
       "      <th>25%</th>\n",
       "      <th>50%</th>\n",
       "      <th>75%</th>\n",
       "      <th>max</th>\n",
       "    </tr>\n",
       "  </thead>\n",
       "  <tbody>\n",
       "    <tr>\n",
       "      <th>fraude</th>\n",
       "      <td>101613.0</td>\n",
       "      <td>1.141586e-03</td>\n",
       "      <td>3.376824e-02</td>\n",
       "      <td>0.00</td>\n",
       "      <td>0.00</td>\n",
       "      <td>0.00</td>\n",
       "      <td>0.00</td>\n",
       "      <td>1.00</td>\n",
       "    </tr>\n",
       "    <tr>\n",
       "      <th>super_fraude</th>\n",
       "      <td>101613.0</td>\n",
       "      <td>0.000000e+00</td>\n",
       "      <td>0.000000e+00</td>\n",
       "      <td>0.00</td>\n",
       "      <td>0.00</td>\n",
       "      <td>0.00</td>\n",
       "      <td>0.00</td>\n",
       "      <td>0.00</td>\n",
       "    </tr>\n",
       "    <tr>\n",
       "      <th>tempo</th>\n",
       "      <td>101613.0</td>\n",
       "      <td>8.523457e+00</td>\n",
       "      <td>1.820681e+00</td>\n",
       "      <td>1.00</td>\n",
       "      <td>8.00</td>\n",
       "      <td>9.00</td>\n",
       "      <td>10.00</td>\n",
       "      <td>10.00</td>\n",
       "    </tr>\n",
       "    <tr>\n",
       "      <th>valor</th>\n",
       "      <td>101613.0</td>\n",
       "      <td>1.740901e+05</td>\n",
       "      <td>3.450199e+05</td>\n",
       "      <td>0.32</td>\n",
       "      <td>10016.59</td>\n",
       "      <td>53385.41</td>\n",
       "      <td>212498.40</td>\n",
       "      <td>10000000.00</td>\n",
       "    </tr>\n",
       "    <tr>\n",
       "      <th>saldo_inicial_c1</th>\n",
       "      <td>101613.0</td>\n",
       "      <td>9.071753e+05</td>\n",
       "      <td>2.829575e+06</td>\n",
       "      <td>0.00</td>\n",
       "      <td>0.00</td>\n",
       "      <td>20190.47</td>\n",
       "      <td>194715.00</td>\n",
       "      <td>38939424.03</td>\n",
       "    </tr>\n",
       "    <tr>\n",
       "      <th>novo_saldo_c1</th>\n",
       "      <td>101613.0</td>\n",
       "      <td>9.234992e+05</td>\n",
       "      <td>2.867319e+06</td>\n",
       "      <td>0.00</td>\n",
       "      <td>0.00</td>\n",
       "      <td>0.00</td>\n",
       "      <td>219217.76</td>\n",
       "      <td>38946233.02</td>\n",
       "    </tr>\n",
       "    <tr>\n",
       "      <th>saldo_inicial_c2</th>\n",
       "      <td>101613.0</td>\n",
       "      <td>8.810428e+05</td>\n",
       "      <td>2.399949e+06</td>\n",
       "      <td>0.00</td>\n",
       "      <td>0.00</td>\n",
       "      <td>21058.00</td>\n",
       "      <td>591921.70</td>\n",
       "      <td>34008736.98</td>\n",
       "    </tr>\n",
       "    <tr>\n",
       "      <th>novo_saldo_c2</th>\n",
       "      <td>101613.0</td>\n",
       "      <td>1.183998e+06</td>\n",
       "      <td>2.797761e+06</td>\n",
       "      <td>0.00</td>\n",
       "      <td>0.00</td>\n",
       "      <td>51783.43</td>\n",
       "      <td>1063121.64</td>\n",
       "      <td>38946233.02</td>\n",
       "    </tr>\n",
       "  </tbody>\n",
       "</table>\n",
       "</div>"
      ],
      "text/plain": [
       "                     count          mean           std   min       25%  \\\n",
       "fraude            101613.0  1.141586e-03  3.376824e-02  0.00      0.00   \n",
       "super_fraude      101613.0  0.000000e+00  0.000000e+00  0.00      0.00   \n",
       "tempo             101613.0  8.523457e+00  1.820681e+00  1.00      8.00   \n",
       "valor             101613.0  1.740901e+05  3.450199e+05  0.32  10016.59   \n",
       "saldo_inicial_c1  101613.0  9.071753e+05  2.829575e+06  0.00      0.00   \n",
       "novo_saldo_c1     101613.0  9.234992e+05  2.867319e+06  0.00      0.00   \n",
       "saldo_inicial_c2  101613.0  8.810428e+05  2.399949e+06  0.00      0.00   \n",
       "novo_saldo_c2     101613.0  1.183998e+06  2.797761e+06  0.00      0.00   \n",
       "\n",
       "                       50%         75%          max  \n",
       "fraude                0.00        0.00         1.00  \n",
       "super_fraude          0.00        0.00         0.00  \n",
       "tempo                 9.00       10.00        10.00  \n",
       "valor             53385.41   212498.40  10000000.00  \n",
       "saldo_inicial_c1  20190.47   194715.00  38939424.03  \n",
       "novo_saldo_c1         0.00   219217.76  38946233.02  \n",
       "saldo_inicial_c2  21058.00   591921.70  34008736.98  \n",
       "novo_saldo_c2     51783.43  1063121.64  38946233.02  "
      ]
     },
     "execution_count": 10,
     "metadata": {},
     "output_type": "execute_result"
    }
   ],
   "source": [
    "df.describe().T"
   ]
  },
  {
   "cell_type": "code",
   "execution_count": 11,
   "id": "2e5c822d",
   "metadata": {},
   "outputs": [
    {
     "data": {
      "text/plain": [
       "(101613, 11)"
      ]
     },
     "execution_count": 11,
     "metadata": {},
     "output_type": "execute_result"
    }
   ],
   "source": [
    "df.shape"
   ]
  },
  {
   "cell_type": "code",
   "execution_count": 12,
   "id": "2b494ba3",
   "metadata": {},
   "outputs": [
    {
     "name": "stdout",
     "output_type": "stream",
     "text": [
      "<class 'pandas.core.frame.DataFrame'>\n",
      "RangeIndex: 101613 entries, 0 to 101612\n",
      "Data columns (total 11 columns):\n",
      " #   Column            Non-Null Count   Dtype  \n",
      "---  ------            --------------   -----  \n",
      " 0   fraude            101613 non-null  int64  \n",
      " 1   super_fraude      101613 non-null  int64  \n",
      " 2   tempo             101613 non-null  int64  \n",
      " 3   tipo              101613 non-null  object \n",
      " 4   valor             101613 non-null  float64\n",
      " 5   cliente1          101613 non-null  object \n",
      " 6   saldo_inicial_c1  101613 non-null  float64\n",
      " 7   novo_saldo_c1     101613 non-null  float64\n",
      " 8   cliente2          101613 non-null  object \n",
      " 9   saldo_inicial_c2  101613 non-null  float64\n",
      " 10  novo_saldo_c2     101613 non-null  float64\n",
      "dtypes: float64(5), int64(3), object(3)\n",
      "memory usage: 8.5+ MB\n"
     ]
    }
   ],
   "source": [
    "df.info()"
   ]
  },
  {
   "cell_type": "code",
   "execution_count": 13,
   "id": "b57119e4",
   "metadata": {},
   "outputs": [
    {
     "data": {
      "text/plain": [
       "fraude\n",
       "0    101497\n",
       "1       116\n",
       "Name: tempo, dtype: int64"
      ]
     },
     "execution_count": 13,
     "metadata": {},
     "output_type": "execute_result"
    }
   ],
   "source": [
    "df.groupby('fraude').tempo.count()"
   ]
  },
  {
   "cell_type": "code",
   "execution_count": 14,
   "id": "4eddbaaf",
   "metadata": {},
   "outputs": [
    {
     "data": {
      "text/plain": [
       "False"
      ]
     },
     "execution_count": 14,
     "metadata": {},
     "output_type": "execute_result"
    }
   ],
   "source": [
    "df.isnull().values.any()"
   ]
  },
  {
   "cell_type": "code",
   "execution_count": 15,
   "id": "1cf5c935",
   "metadata": {},
   "outputs": [],
   "source": [
    "# !pip install -U pandas-profiling"
   ]
  },
  {
   "cell_type": "code",
   "execution_count": 16,
   "id": "e8e904f1",
   "metadata": {},
   "outputs": [],
   "source": [
    "import pandas_profiling\n",
    "\n",
    "\n",
    "# pandas_profiling.ProfileReport(df)"
   ]
  },
  {
   "cell_type": "code",
   "execution_count": 17,
   "id": "f764f841",
   "metadata": {},
   "outputs": [],
   "source": [
    "# !pip install MarkupSafe==2.0.1"
   ]
  },
  {
   "cell_type": "markdown",
   "id": "91e5da37",
   "metadata": {},
   "source": [
    "### Aplicando o Encoding\n",
    "#### **Tipos de encoding**\n",
    "\n",
    "**Label Encoding** - Renomea as classes com valores numéricos de 1 a **n**, sendo n o número de classes. Pode existir hierarquia entre as classes.\n",
    "\n",
    "**One-Hot Encoding** - Transforma as variáveis em **n** colunas binárias, sendo n o número de classes. Todas as classes são analisadas de forma igual, quando tiver a ocorrência dela a coluna terá o valor 1 e quando não o valor 0, isso acontece para as demais colunas criadas.\n",
    "\n"
   ]
  },
  {
   "cell_type": "code",
   "execution_count": 18,
   "id": "8a5be0aa",
   "metadata": {},
   "outputs": [
    {
     "data": {
      "text/html": [
       "<div>\n",
       "<style scoped>\n",
       "    .dataframe tbody tr th:only-of-type {\n",
       "        vertical-align: middle;\n",
       "    }\n",
       "\n",
       "    .dataframe tbody tr th {\n",
       "        vertical-align: top;\n",
       "    }\n",
       "\n",
       "    .dataframe thead th {\n",
       "        text-align: right;\n",
       "    }\n",
       "</style>\n",
       "<table border=\"1\" class=\"dataframe\">\n",
       "  <thead>\n",
       "    <tr style=\"text-align: right;\">\n",
       "      <th></th>\n",
       "      <th>fraude</th>\n",
       "      <th>super_fraude</th>\n",
       "      <th>tempo</th>\n",
       "      <th>valor</th>\n",
       "      <th>cliente1</th>\n",
       "      <th>saldo_inicial_c1</th>\n",
       "      <th>novo_saldo_c1</th>\n",
       "      <th>cliente2</th>\n",
       "      <th>saldo_inicial_c2</th>\n",
       "      <th>novo_saldo_c2</th>\n",
       "      <th>tipo_CASH_IN</th>\n",
       "      <th>tipo_CASH_OUT</th>\n",
       "      <th>tipo_DEBIT</th>\n",
       "      <th>tipo_PAYMENT</th>\n",
       "      <th>tipo_TRANSFER</th>\n",
       "    </tr>\n",
       "  </thead>\n",
       "  <tbody>\n",
       "    <tr>\n",
       "      <th>0</th>\n",
       "      <td>0</td>\n",
       "      <td>0</td>\n",
       "      <td>1</td>\n",
       "      <td>9839.64</td>\n",
       "      <td>C1231006815</td>\n",
       "      <td>170136.0</td>\n",
       "      <td>160296.36</td>\n",
       "      <td>M1979787155</td>\n",
       "      <td>0.0</td>\n",
       "      <td>0.0</td>\n",
       "      <td>0</td>\n",
       "      <td>0</td>\n",
       "      <td>0</td>\n",
       "      <td>1</td>\n",
       "      <td>0</td>\n",
       "    </tr>\n",
       "    <tr>\n",
       "      <th>1</th>\n",
       "      <td>0</td>\n",
       "      <td>0</td>\n",
       "      <td>1</td>\n",
       "      <td>1864.28</td>\n",
       "      <td>C1666544295</td>\n",
       "      <td>21249.0</td>\n",
       "      <td>19384.72</td>\n",
       "      <td>M2044282225</td>\n",
       "      <td>0.0</td>\n",
       "      <td>0.0</td>\n",
       "      <td>0</td>\n",
       "      <td>0</td>\n",
       "      <td>0</td>\n",
       "      <td>1</td>\n",
       "      <td>0</td>\n",
       "    </tr>\n",
       "    <tr>\n",
       "      <th>2</th>\n",
       "      <td>1</td>\n",
       "      <td>0</td>\n",
       "      <td>1</td>\n",
       "      <td>181.00</td>\n",
       "      <td>C1305486145</td>\n",
       "      <td>181.0</td>\n",
       "      <td>0.00</td>\n",
       "      <td>C553264065</td>\n",
       "      <td>0.0</td>\n",
       "      <td>0.0</td>\n",
       "      <td>0</td>\n",
       "      <td>0</td>\n",
       "      <td>0</td>\n",
       "      <td>0</td>\n",
       "      <td>1</td>\n",
       "    </tr>\n",
       "    <tr>\n",
       "      <th>3</th>\n",
       "      <td>1</td>\n",
       "      <td>0</td>\n",
       "      <td>1</td>\n",
       "      <td>181.00</td>\n",
       "      <td>C840083671</td>\n",
       "      <td>181.0</td>\n",
       "      <td>0.00</td>\n",
       "      <td>C38997010</td>\n",
       "      <td>21182.0</td>\n",
       "      <td>0.0</td>\n",
       "      <td>0</td>\n",
       "      <td>1</td>\n",
       "      <td>0</td>\n",
       "      <td>0</td>\n",
       "      <td>0</td>\n",
       "    </tr>\n",
       "    <tr>\n",
       "      <th>4</th>\n",
       "      <td>0</td>\n",
       "      <td>0</td>\n",
       "      <td>1</td>\n",
       "      <td>11668.14</td>\n",
       "      <td>C2048537720</td>\n",
       "      <td>41554.0</td>\n",
       "      <td>29885.86</td>\n",
       "      <td>M1230701703</td>\n",
       "      <td>0.0</td>\n",
       "      <td>0.0</td>\n",
       "      <td>0</td>\n",
       "      <td>0</td>\n",
       "      <td>0</td>\n",
       "      <td>1</td>\n",
       "      <td>0</td>\n",
       "    </tr>\n",
       "  </tbody>\n",
       "</table>\n",
       "</div>"
      ],
      "text/plain": [
       "   fraude  super_fraude  tempo     valor     cliente1  saldo_inicial_c1  \\\n",
       "0       0             0      1   9839.64  C1231006815          170136.0   \n",
       "1       0             0      1   1864.28  C1666544295           21249.0   \n",
       "2       1             0      1    181.00  C1305486145             181.0   \n",
       "3       1             0      1    181.00   C840083671             181.0   \n",
       "4       0             0      1  11668.14  C2048537720           41554.0   \n",
       "\n",
       "   novo_saldo_c1     cliente2  saldo_inicial_c2  novo_saldo_c2  tipo_CASH_IN  \\\n",
       "0      160296.36  M1979787155               0.0            0.0             0   \n",
       "1       19384.72  M2044282225               0.0            0.0             0   \n",
       "2           0.00   C553264065               0.0            0.0             0   \n",
       "3           0.00    C38997010           21182.0            0.0             0   \n",
       "4       29885.86  M1230701703               0.0            0.0             0   \n",
       "\n",
       "   tipo_CASH_OUT  tipo_DEBIT  tipo_PAYMENT  tipo_TRANSFER  \n",
       "0              0           0             1              0  \n",
       "1              0           0             1              0  \n",
       "2              0           0             0              1  \n",
       "3              1           0             0              0  \n",
       "4              0           0             1              0  "
      ]
     },
     "execution_count": 18,
     "metadata": {},
     "output_type": "execute_result"
    }
   ],
   "source": [
    "df = pd.get_dummies(data=df, columns=['tipo'])\n",
    "df.head()"
   ]
  },
  {
   "cell_type": "code",
   "execution_count": 19,
   "id": "5c668c8e",
   "metadata": {},
   "outputs": [],
   "source": [
    "df = df.drop(['cliente1','cliente2', 'super_fraude'], axis=1)"
   ]
  },
  {
   "cell_type": "code",
   "execution_count": 20,
   "id": "297a3512",
   "metadata": {},
   "outputs": [
    {
     "data": {
      "text/html": [
       "<div>\n",
       "<style scoped>\n",
       "    .dataframe tbody tr th:only-of-type {\n",
       "        vertical-align: middle;\n",
       "    }\n",
       "\n",
       "    .dataframe tbody tr th {\n",
       "        vertical-align: top;\n",
       "    }\n",
       "\n",
       "    .dataframe thead th {\n",
       "        text-align: right;\n",
       "    }\n",
       "</style>\n",
       "<table border=\"1\" class=\"dataframe\">\n",
       "  <thead>\n",
       "    <tr style=\"text-align: right;\">\n",
       "      <th></th>\n",
       "      <th>fraude</th>\n",
       "      <th>tempo</th>\n",
       "      <th>valor</th>\n",
       "      <th>saldo_inicial_c1</th>\n",
       "      <th>novo_saldo_c1</th>\n",
       "      <th>saldo_inicial_c2</th>\n",
       "      <th>novo_saldo_c2</th>\n",
       "      <th>tipo_CASH_IN</th>\n",
       "      <th>tipo_CASH_OUT</th>\n",
       "      <th>tipo_DEBIT</th>\n",
       "      <th>tipo_PAYMENT</th>\n",
       "      <th>tipo_TRANSFER</th>\n",
       "    </tr>\n",
       "  </thead>\n",
       "  <tbody>\n",
       "    <tr>\n",
       "      <th>0</th>\n",
       "      <td>0</td>\n",
       "      <td>1</td>\n",
       "      <td>9839.64</td>\n",
       "      <td>170136.0</td>\n",
       "      <td>160296.36</td>\n",
       "      <td>0.0</td>\n",
       "      <td>0.0</td>\n",
       "      <td>0</td>\n",
       "      <td>0</td>\n",
       "      <td>0</td>\n",
       "      <td>1</td>\n",
       "      <td>0</td>\n",
       "    </tr>\n",
       "    <tr>\n",
       "      <th>1</th>\n",
       "      <td>0</td>\n",
       "      <td>1</td>\n",
       "      <td>1864.28</td>\n",
       "      <td>21249.0</td>\n",
       "      <td>19384.72</td>\n",
       "      <td>0.0</td>\n",
       "      <td>0.0</td>\n",
       "      <td>0</td>\n",
       "      <td>0</td>\n",
       "      <td>0</td>\n",
       "      <td>1</td>\n",
       "      <td>0</td>\n",
       "    </tr>\n",
       "    <tr>\n",
       "      <th>2</th>\n",
       "      <td>1</td>\n",
       "      <td>1</td>\n",
       "      <td>181.00</td>\n",
       "      <td>181.0</td>\n",
       "      <td>0.00</td>\n",
       "      <td>0.0</td>\n",
       "      <td>0.0</td>\n",
       "      <td>0</td>\n",
       "      <td>0</td>\n",
       "      <td>0</td>\n",
       "      <td>0</td>\n",
       "      <td>1</td>\n",
       "    </tr>\n",
       "    <tr>\n",
       "      <th>3</th>\n",
       "      <td>1</td>\n",
       "      <td>1</td>\n",
       "      <td>181.00</td>\n",
       "      <td>181.0</td>\n",
       "      <td>0.00</td>\n",
       "      <td>21182.0</td>\n",
       "      <td>0.0</td>\n",
       "      <td>0</td>\n",
       "      <td>1</td>\n",
       "      <td>0</td>\n",
       "      <td>0</td>\n",
       "      <td>0</td>\n",
       "    </tr>\n",
       "    <tr>\n",
       "      <th>4</th>\n",
       "      <td>0</td>\n",
       "      <td>1</td>\n",
       "      <td>11668.14</td>\n",
       "      <td>41554.0</td>\n",
       "      <td>29885.86</td>\n",
       "      <td>0.0</td>\n",
       "      <td>0.0</td>\n",
       "      <td>0</td>\n",
       "      <td>0</td>\n",
       "      <td>0</td>\n",
       "      <td>1</td>\n",
       "      <td>0</td>\n",
       "    </tr>\n",
       "  </tbody>\n",
       "</table>\n",
       "</div>"
      ],
      "text/plain": [
       "   fraude  tempo     valor  saldo_inicial_c1  novo_saldo_c1  saldo_inicial_c2  \\\n",
       "0       0      1   9839.64          170136.0      160296.36               0.0   \n",
       "1       0      1   1864.28           21249.0       19384.72               0.0   \n",
       "2       1      1    181.00             181.0           0.00               0.0   \n",
       "3       1      1    181.00             181.0           0.00           21182.0   \n",
       "4       0      1  11668.14           41554.0       29885.86               0.0   \n",
       "\n",
       "   novo_saldo_c2  tipo_CASH_IN  tipo_CASH_OUT  tipo_DEBIT  tipo_PAYMENT  \\\n",
       "0            0.0             0              0           0             1   \n",
       "1            0.0             0              0           0             1   \n",
       "2            0.0             0              0           0             0   \n",
       "3            0.0             0              1           0             0   \n",
       "4            0.0             0              0           0             1   \n",
       "\n",
       "   tipo_TRANSFER  \n",
       "0              0  \n",
       "1              0  \n",
       "2              1  \n",
       "3              0  \n",
       "4              0  "
      ]
     },
     "execution_count": 20,
     "metadata": {},
     "output_type": "execute_result"
    }
   ],
   "source": [
    "df.head()"
   ]
  },
  {
   "cell_type": "markdown",
   "id": "99c8f8fc",
   "metadata": {},
   "source": [
    "# Regressão Logística"
   ]
  },
  {
   "cell_type": "code",
   "execution_count": 21,
   "id": "d91a6dfd",
   "metadata": {},
   "outputs": [],
   "source": [
    "x = df.drop('fraude',axis=1)\n",
    "y= df['fraude']"
   ]
  },
  {
   "cell_type": "code",
   "execution_count": 22,
   "id": "29208267",
   "metadata": {},
   "outputs": [],
   "source": [
    "from sklearn.model_selection import train_test_split\n",
    "\n",
    "SEED=42\n",
    "\n",
    "x_train, x_test, y_train, y_test = train_test_split(x,y,test_size=0.25, random_state=SEED)"
   ]
  },
  {
   "cell_type": "code",
   "execution_count": 23,
   "id": "d0128e05",
   "metadata": {},
   "outputs": [
    {
     "name": "stdout",
     "output_type": "stream",
     "text": [
      "Acurácia 0.9989765391276965\n",
      "precisao 0.2\n",
      "recall 0.043478260869565216\n",
      "f1 0.07142857142857142\n"
     ]
    }
   ],
   "source": [
    "from sklearn.linear_model import LogisticRegression\n",
    "from sklearn import metrics\n",
    "\n",
    "\n",
    "lr = LogisticRegression(max_iter =1000, random_state=SEED)\n",
    "lr.fit(x_train, y_train)\n",
    "y_pred = lr.predict(x_test) \n",
    "\n",
    "print('Acurácia', metrics.accuracy_score(y_test,y_pred))\n",
    "print('precisao', metrics.precision_score(y_test,y_pred))\n",
    "print('recall', metrics.recall_score(y_test,y_pred))\n",
    "print('f1', metrics.f1_score(y_test,y_pred))"
   ]
  },
  {
   "cell_type": "code",
   "execution_count": 24,
   "id": "268080b0",
   "metadata": {},
   "outputs": [
    {
     "data": {
      "text/plain": [
       "<sklearn.metrics._plot.confusion_matrix.ConfusionMatrixDisplay at 0x281ebbc8040>"
      ]
     },
     "execution_count": 24,
     "metadata": {},
     "output_type": "execute_result"
    },
    {
     "data": {
      "image/png": "[encoded data removed]",
      "text/plain": [
       "<Figure size 432x288 with 2 Axes>"
      ]
     },
     "metadata": {
      "needs_background": "light"
     },
     "output_type": "display_data"
    }
   ],
   "source": [
    "import matplotlib.pyplot as plt\n",
    "from sklearn.metrics import confusion_matrix\n",
    "from sklearn.datasets import make_classification\n",
    "from sklearn.metrics import ConfusionMatrixDisplay\n",
    "%matplotlib inline\n",
    "\n",
    "cm = confusion_matrix(y_test,y_pred)\n",
    "disp= ConfusionMatrixDisplay(confusion_matrix=cm)\n",
    "disp.plot()"
   ]
  },
  {
   "cell_type": "code",
   "execution_count": 25,
   "id": "a248aab0",
   "metadata": {},
   "outputs": [
    {
     "data": {
      "text/plain": [
       "<matplotlib.legend.Legend at 0x281eed18790>"
      ]
     },
     "execution_count": 25,
     "metadata": {},
     "output_type": "execute_result"
    },
    {
     "data": {
      "image/png": "[encoded data removed]",
      "text/plain": [
       "<Figure size 864x576 with 1 Axes>"
      ]
     },
     "metadata": {
      "needs_background": "light"
     },
     "output_type": "display_data"
    }
   ],
   "source": [
    "y_pred_proba = lr.predict_proba(x_test)[::,1]\n",
    "fpr, tpr, _ = metrics.roc_curve(y_test,y_pred_proba)\n",
    "auc = metrics.roc_auc_score(y_test, y_pred_proba)\n",
    "\n",
    "plt.rcParams['figure.figsize'] = (12.,8.)\n",
    "plt.plot(fpr, tpr, label='LR, auc='+str(auc))\n",
    "plt.plot([0,1], [0,1], color='red', lw=2, linestyle = '--')\n",
    "plt.legend(loc=4)"
   ]
  },
  {
   "cell_type": "markdown",
   "id": "66b6f2fc",
   "metadata": {},
   "source": [
    "# smote balenceamento de dados\n"
   ]
  },
  {
   "cell_type": "code",
   "execution_count": 26,
   "id": "2bb33362",
   "metadata": {},
   "outputs": [
    {
     "name": "stdout",
     "output_type": "stream",
     "text": [
      "Requirement already satisfied: imbalanced-learn in c:\\users\\renan\\anaconda3\\lib\\site-packages (0.9.1)\n",
      "Requirement already satisfied: threadpoolctl>=2.0.0 in c:\\users\\renan\\anaconda3\\lib\\site-packages (from imbalanced-learn) (2.2.0)\n",
      "Requirement already satisfied: numpy>=1.17.3 in c:\\users\\renan\\anaconda3\\lib\\site-packages (from imbalanced-learn) (1.20.3)\n",
      "Requirement already satisfied: scipy>=1.3.2 in c:\\users\\renan\\anaconda3\\lib\\site-packages (from imbalanced-learn) (1.7.1)\n",
      "Requirement already satisfied: scikit-learn>=1.1.0 in c:\\users\\renan\\anaconda3\\lib\\site-packages (from imbalanced-learn) (1.1.0)\n",
      "Requirement already satisfied: joblib>=1.0.0 in c:\\users\\renan\\anaconda3\\lib\\site-packages (from imbalanced-learn) (1.1.0)\n"
     ]
    }
   ],
   "source": [
    "!pip install -U imbalanced-learn"
   ]
  },
  {
   "cell_type": "code",
   "execution_count": 28,
   "id": "baf5f51c",
   "metadata": {},
   "outputs": [],
   "source": [
    "from imblearn.over_sampling import SMOTE\n",
    "import numpy as np\n",
    "\n",
    "SEED=42\n",
    "\n",
    "smote = SMOTE(random_state=SEED)"
   ]
  },
  {
   "cell_type": "code",
   "execution_count": 29,
   "id": "204d509e",
   "metadata": {},
   "outputs": [],
   "source": [
    "x = df.drop('fraude',axis=1)\n",
    "y= df['fraude']"
   ]
  },
  {
   "cell_type": "code",
   "execution_count": 30,
   "id": "40d64b29",
   "metadata": {},
   "outputs": [],
   "source": [
    "x_resampled, y_resampled  = smote.fit_resample(x,y)"
   ]
  },
  {
   "cell_type": "code",
   "execution_count": 31,
   "id": "916cd21d",
   "metadata": {},
   "outputs": [
    {
     "data": {
      "text/html": [
       "<div>\n",
       "<style scoped>\n",
       "    .dataframe tbody tr th:only-of-type {\n",
       "        vertical-align: middle;\n",
       "    }\n",
       "\n",
       "    .dataframe tbody tr th {\n",
       "        vertical-align: top;\n",
       "    }\n",
       "\n",
       "    .dataframe thead th {\n",
       "        text-align: right;\n",
       "    }\n",
       "</style>\n",
       "<table border=\"1\" class=\"dataframe\">\n",
       "  <thead>\n",
       "    <tr style=\"text-align: right;\">\n",
       "      <th></th>\n",
       "      <th>fraude</th>\n",
       "      <th>tempo</th>\n",
       "      <th>valor</th>\n",
       "      <th>saldo_inicial_c1</th>\n",
       "      <th>novo_saldo_c1</th>\n",
       "      <th>saldo_inicial_c2</th>\n",
       "      <th>novo_saldo_c2</th>\n",
       "      <th>tipo_CASH_IN</th>\n",
       "      <th>tipo_CASH_OUT</th>\n",
       "      <th>tipo_DEBIT</th>\n",
       "      <th>tipo_PAYMENT</th>\n",
       "      <th>tipo_TRANSFER</th>\n",
       "    </tr>\n",
       "  </thead>\n",
       "  <tbody>\n",
       "    <tr>\n",
       "      <th>0</th>\n",
       "      <td>0</td>\n",
       "      <td>1</td>\n",
       "      <td>9839.640000</td>\n",
       "      <td>170136.000000</td>\n",
       "      <td>160296.36</td>\n",
       "      <td>0.000000</td>\n",
       "      <td>0.000000</td>\n",
       "      <td>0</td>\n",
       "      <td>0</td>\n",
       "      <td>0</td>\n",
       "      <td>1</td>\n",
       "      <td>0</td>\n",
       "    </tr>\n",
       "    <tr>\n",
       "      <th>1</th>\n",
       "      <td>0</td>\n",
       "      <td>1</td>\n",
       "      <td>1864.280000</td>\n",
       "      <td>21249.000000</td>\n",
       "      <td>19384.72</td>\n",
       "      <td>0.000000</td>\n",
       "      <td>0.000000</td>\n",
       "      <td>0</td>\n",
       "      <td>0</td>\n",
       "      <td>0</td>\n",
       "      <td>1</td>\n",
       "      <td>0</td>\n",
       "    </tr>\n",
       "    <tr>\n",
       "      <th>2</th>\n",
       "      <td>1</td>\n",
       "      <td>1</td>\n",
       "      <td>181.000000</td>\n",
       "      <td>181.000000</td>\n",
       "      <td>0.00</td>\n",
       "      <td>0.000000</td>\n",
       "      <td>0.000000</td>\n",
       "      <td>0</td>\n",
       "      <td>0</td>\n",
       "      <td>0</td>\n",
       "      <td>0</td>\n",
       "      <td>1</td>\n",
       "    </tr>\n",
       "    <tr>\n",
       "      <th>3</th>\n",
       "      <td>1</td>\n",
       "      <td>1</td>\n",
       "      <td>181.000000</td>\n",
       "      <td>181.000000</td>\n",
       "      <td>0.00</td>\n",
       "      <td>21182.000000</td>\n",
       "      <td>0.000000</td>\n",
       "      <td>0</td>\n",
       "      <td>1</td>\n",
       "      <td>0</td>\n",
       "      <td>0</td>\n",
       "      <td>0</td>\n",
       "    </tr>\n",
       "    <tr>\n",
       "      <th>4</th>\n",
       "      <td>0</td>\n",
       "      <td>1</td>\n",
       "      <td>11668.140000</td>\n",
       "      <td>41554.000000</td>\n",
       "      <td>29885.86</td>\n",
       "      <td>0.000000</td>\n",
       "      <td>0.000000</td>\n",
       "      <td>0</td>\n",
       "      <td>0</td>\n",
       "      <td>0</td>\n",
       "      <td>1</td>\n",
       "      <td>0</td>\n",
       "    </tr>\n",
       "    <tr>\n",
       "      <th>...</th>\n",
       "      <td>...</td>\n",
       "      <td>...</td>\n",
       "      <td>...</td>\n",
       "      <td>...</td>\n",
       "      <td>...</td>\n",
       "      <td>...</td>\n",
       "      <td>...</td>\n",
       "      <td>...</td>\n",
       "      <td>...</td>\n",
       "      <td>...</td>\n",
       "      <td>...</td>\n",
       "      <td>...</td>\n",
       "    </tr>\n",
       "    <tr>\n",
       "      <th>202989</th>\n",
       "      <td>1</td>\n",
       "      <td>5</td>\n",
       "      <td>17608.962863</td>\n",
       "      <td>17608.962863</td>\n",
       "      <td>0.00</td>\n",
       "      <td>0.000000</td>\n",
       "      <td>0.000000</td>\n",
       "      <td>0</td>\n",
       "      <td>0</td>\n",
       "      <td>0</td>\n",
       "      <td>0</td>\n",
       "      <td>1</td>\n",
       "    </tr>\n",
       "    <tr>\n",
       "      <th>202990</th>\n",
       "      <td>1</td>\n",
       "      <td>7</td>\n",
       "      <td>12116.291013</td>\n",
       "      <td>12116.291013</td>\n",
       "      <td>0.00</td>\n",
       "      <td>0.000000</td>\n",
       "      <td>0.000000</td>\n",
       "      <td>0</td>\n",
       "      <td>0</td>\n",
       "      <td>0</td>\n",
       "      <td>0</td>\n",
       "      <td>1</td>\n",
       "    </tr>\n",
       "    <tr>\n",
       "      <th>202991</th>\n",
       "      <td>1</td>\n",
       "      <td>1</td>\n",
       "      <td>231612.880715</td>\n",
       "      <td>231612.880715</td>\n",
       "      <td>0.00</td>\n",
       "      <td>1945.589357</td>\n",
       "      <td>9370.603471</td>\n",
       "      <td>0</td>\n",
       "      <td>0</td>\n",
       "      <td>0</td>\n",
       "      <td>0</td>\n",
       "      <td>0</td>\n",
       "    </tr>\n",
       "    <tr>\n",
       "      <th>202992</th>\n",
       "      <td>1</td>\n",
       "      <td>9</td>\n",
       "      <td>547325.144758</td>\n",
       "      <td>547325.144758</td>\n",
       "      <td>0.00</td>\n",
       "      <td>0.000000</td>\n",
       "      <td>0.000000</td>\n",
       "      <td>0</td>\n",
       "      <td>0</td>\n",
       "      <td>0</td>\n",
       "      <td>0</td>\n",
       "      <td>1</td>\n",
       "    </tr>\n",
       "    <tr>\n",
       "      <th>202993</th>\n",
       "      <td>1</td>\n",
       "      <td>4</td>\n",
       "      <td>159298.594420</td>\n",
       "      <td>159298.594420</td>\n",
       "      <td>0.00</td>\n",
       "      <td>0.000000</td>\n",
       "      <td>0.000000</td>\n",
       "      <td>0</td>\n",
       "      <td>0</td>\n",
       "      <td>0</td>\n",
       "      <td>0</td>\n",
       "      <td>1</td>\n",
       "    </tr>\n",
       "  </tbody>\n",
       "</table>\n",
       "<p>202994 rows × 12 columns</p>\n",
       "</div>"
      ],
      "text/plain": [
       "        fraude  tempo          valor  saldo_inicial_c1  novo_saldo_c1  \\\n",
       "0            0      1    9839.640000     170136.000000      160296.36   \n",
       "1            0      1    1864.280000      21249.000000       19384.72   \n",
       "2            1      1     181.000000        181.000000           0.00   \n",
       "3            1      1     181.000000        181.000000           0.00   \n",
       "4            0      1   11668.140000      41554.000000       29885.86   \n",
       "...        ...    ...            ...               ...            ...   \n",
       "202989       1      5   17608.962863      17608.962863           0.00   \n",
       "202990       1      7   12116.291013      12116.291013           0.00   \n",
       "202991       1      1  231612.880715     231612.880715           0.00   \n",
       "202992       1      9  547325.144758     547325.144758           0.00   \n",
       "202993       1      4  159298.594420     159298.594420           0.00   \n",
       "\n",
       "        saldo_inicial_c2  novo_saldo_c2  tipo_CASH_IN  tipo_CASH_OUT  \\\n",
       "0               0.000000       0.000000             0              0   \n",
       "1               0.000000       0.000000             0              0   \n",
       "2               0.000000       0.000000             0              0   \n",
       "3           21182.000000       0.000000             0              1   \n",
       "4               0.000000       0.000000             0              0   \n",
       "...                  ...            ...           ...            ...   \n",
       "202989          0.000000       0.000000             0              0   \n",
       "202990          0.000000       0.000000             0              0   \n",
       "202991       1945.589357    9370.603471             0              0   \n",
       "202992          0.000000       0.000000             0              0   \n",
       "202993          0.000000       0.000000             0              0   \n",
       "\n",
       "        tipo_DEBIT  tipo_PAYMENT  tipo_TRANSFER  \n",
       "0                0             1              0  \n",
       "1                0             1              0  \n",
       "2                0             0              1  \n",
       "3                0             0              0  \n",
       "4                0             1              0  \n",
       "...            ...           ...            ...  \n",
       "202989           0             0              1  \n",
       "202990           0             0              1  \n",
       "202991           0             0              0  \n",
       "202992           0             0              1  \n",
       "202993           0             0              1  \n",
       "\n",
       "[202994 rows x 12 columns]"
      ]
     },
     "execution_count": 31,
     "metadata": {},
     "output_type": "execute_result"
    }
   ],
   "source": [
    "df_balanced = pd.concat([y_resampled, x_resampled], axis=1)\n",
    "df_balanced"
   ]
  },
  {
   "cell_type": "code",
   "execution_count": 32,
   "id": "0a26b3b2",
   "metadata": {},
   "outputs": [
    {
     "data": {
      "text/plain": [
       "fraude\n",
       "0    101497\n",
       "1    101497\n",
       "Name: tempo, dtype: int64"
      ]
     },
     "execution_count": 32,
     "metadata": {},
     "output_type": "execute_result"
    }
   ],
   "source": [
    "df_balanced.groupby('fraude').tempo.count()"
   ]
  },
  {
   "cell_type": "code",
   "execution_count": 33,
   "id": "5ed2c1fc",
   "metadata": {},
   "outputs": [
    {
     "name": "stdout",
     "output_type": "stream",
     "text": [
      "Acurácia 0.9417722516699837\n",
      "precisao 0.9241993556945234\n",
      "recall 0.9623125493291239\n",
      "f1 0.9428709521507975\n"
     ]
    }
   ],
   "source": [
    "# novo teste \n",
    "\n",
    "# x = df_balanced.iloc[:,1].values\n",
    "# y = df_balanced.iloc[:,0].values\n",
    "x = df_balanced.drop('fraude',axis=1)\n",
    "y = df_balanced['fraude']\n",
    "from sklearn.model_selection import train_test_split\n",
    "\n",
    "SEED=42\n",
    "\n",
    "x_train, x_test, y_train, y_test = train_test_split(x,y,test_size=0.25, random_state=SEED)\n",
    "\n",
    "from sklearn.linear_model import LogisticRegression\n",
    "from sklearn import metrics\n",
    "\n",
    "\n",
    "lr = LogisticRegression(max_iter =1000, random_state=SEED)\n",
    "lr.fit(x_train, y_train)\n",
    "y_pred = lr.predict(x_test) \n",
    "\n",
    "print('Acurácia', metrics.accuracy_score(y_test,y_pred))\n",
    "print('precisao', metrics.precision_score(y_test,y_pred))\n",
    "print('recall', metrics.recall_score(y_test,y_pred))\n",
    "print('f1', metrics.f1_score(y_test,y_pred))"
   ]
  },
  {
   "cell_type": "code",
   "execution_count": 34,
   "id": "d5a15cd8",
   "metadata": {},
   "outputs": [
    {
     "data": {
      "text/plain": [
       "<sklearn.metrics._plot.confusion_matrix.ConfusionMatrixDisplay at 0x281e5d94310>"
      ]
     },
     "execution_count": 34,
     "metadata": {},
     "output_type": "execute_result"
    },
    {
     "data": {
      "image/png": "[encoded data removed]",
      "text/plain": [
       "<Figure size 864x576 with 2 Axes>"
      ]
     },
     "metadata": {
      "needs_background": "light"
     },
     "output_type": "display_data"
    }
   ],
   "source": [
    "cm = confusion_matrix(y_test,y_pred)\n",
    "disp= ConfusionMatrixDisplay(confusion_matrix=cm)\n",
    "disp.plot()"
   ]
  },
  {
   "cell_type": "code",
   "execution_count": 35,
   "id": "a9fd3c5c",
   "metadata": {},
   "outputs": [
    {
     "data": {
      "text/plain": [
       "<matplotlib.legend.Legend at 0x281ee112430>"
      ]
     },
     "execution_count": 35,
     "metadata": {},
     "output_type": "execute_result"
    },
    {
     "data": {
      "image/png": "[encoded data removed]",
      "text/plain": [
       "<Figure size 864x576 with 1 Axes>"
      ]
     },
     "metadata": {
      "needs_background": "light"
     },
     "output_type": "display_data"
    }
   ],
   "source": [
    "y_pred_proba = lr.predict_proba(x_test)[::,1]\n",
    "fpr, tpr, _ = metrics.roc_curve(y_test,y_pred_proba)\n",
    "auc = metrics.roc_auc_score(y_test, y_pred_proba)\n",
    "\n",
    "plt.rcParams['figure.figsize'] = (12.,8.)\n",
    "plt.plot(fpr, tpr, label='LR, auc='+str(auc))\n",
    "plt.plot([0,1], [0,1], color='red', lw=2, linestyle = '--')\n",
    "plt.legend(loc=4)"
   ]
  },
  {
   "cell_type": "markdown",
   "id": "161324fa",
   "metadata": {},
   "source": [
    "# Formulando as hipóteses"
   ]
  },
  {
   "cell_type": "code",
   "execution_count": 36,
   "id": "cf38ae33",
   "metadata": {},
   "outputs": [],
   "source": [
    "# pandas_profiling.ProfileReport(df_balanced)"
   ]
  },
  {
   "cell_type": "markdown",
   "id": "fd8fb89d",
   "metadata": {},
   "source": [
    " # -  tipo_payment é o que a pessoa utiliza como padrão e a fraude ocorre por meio do tipo_transfer\n",
    " # - O cliente pode fazer seus pagamentos durante um periodo do dia e a fraude ocorre em um periodo diferente\n",
    " # - O cliente paga suas contas no começo do mes e ouve uma movimentação no final do mês\n",
    " "
   ]
  },
  {
   "cell_type": "markdown",
   "id": "57488702",
   "metadata": {},
   "source": [
    "# Decision tree"
   ]
  },
  {
   "cell_type": "code",
   "execution_count": 37,
   "id": "c0391826",
   "metadata": {},
   "outputs": [],
   "source": [
    "from sklearn.tree import DecisionTreeClassifier"
   ]
  },
  {
   "cell_type": "code",
   "execution_count": 38,
   "id": "b5d5bc2b",
   "metadata": {},
   "outputs": [
    {
     "name": "stdout",
     "output_type": "stream",
     "text": [
      "Acurácia 0.9622849711324362\n",
      "precisao 0.9381639982043992\n",
      "recall 0.9897000789265983\n",
      "f1 0.9632432017206943\n"
     ]
    }
   ],
   "source": [
    "SEED=42\n",
    "dt = DecisionTreeClassifier(max_depth= 5, random_state=SEED)\n",
    "\n",
    "model = dt.fit(x_train, y_train)\n",
    "y_pred = dt.predict(x_test)\n",
    "\n",
    "print('Acurácia', metrics.accuracy_score(y_test,y_pred))\n",
    "print('precisao', metrics.precision_score(y_test,y_pred))\n",
    "print('recall', metrics.recall_score(y_test,y_pred))\n",
    "print('f1', metrics.f1_score(y_test,y_pred))"
   ]
  },
  {
   "cell_type": "code",
   "execution_count": 39,
   "id": "673b43db",
   "metadata": {},
   "outputs": [
    {
     "data": {
      "text/plain": [
       "<sklearn.metrics._plot.confusion_matrix.ConfusionMatrixDisplay at 0x281eed5d2e0>"
      ]
     },
     "execution_count": 39,
     "metadata": {},
     "output_type": "execute_result"
    },
    {
     "data": {
      "image/png": "[encoded data removed]",
      "text/plain": [
       "<Figure size 864x576 with 2 Axes>"
      ]
     },
     "metadata": {
      "needs_background": "light"
     },
     "output_type": "display_data"
    }
   ],
   "source": [
    "cm = confusion_matrix(y_test,y_pred)\n",
    "disp= ConfusionMatrixDisplay(confusion_matrix=cm)\n",
    "disp.plot()"
   ]
  },
  {
   "cell_type": "code",
   "execution_count": 40,
   "id": "5885671f",
   "metadata": {},
   "outputs": [
    {
     "data": {
      "text/plain": [
       "<matplotlib.legend.Legend at 0x281ee345340>"
      ]
     },
     "execution_count": 40,
     "metadata": {},
     "output_type": "execute_result"
    },
    {
     "data": {
      "image/png": "[encoded data removed]",
      "text/plain": [
       "<Figure size 864x576 with 1 Axes>"
      ]
     },
     "metadata": {
      "needs_background": "light"
     },
     "output_type": "display_data"
    }
   ],
   "source": [
    "y_pred_proba = dt.predict_proba(x_test)[::,1]\n",
    "fpr, tpr, _ = metrics.roc_curve(y_test,y_pred_proba)\n",
    "auc = metrics.roc_auc_score(y_test, y_pred_proba)\n",
    "\n",
    "plt.rcParams['figure.figsize'] = (12.,8.)\n",
    "plt.plot(fpr, tpr, label='LR, auc='+str(auc))\n",
    "plt.plot([0,1], [0,1], color='red', lw=2, linestyle = '--')\n",
    "plt.legend(loc=4)"
   ]
  },
  {
   "cell_type": "code",
   "execution_count": 41,
   "id": "7c6ace84",
   "metadata": {},
   "outputs": [
    {
     "name": "stdout",
     "output_type": "stream",
     "text": [
      "Acurácia 0.9723738398786183\n",
      "precisao 0.9705165500432424\n",
      "recall 0.9742699289660616\n",
      "f1 0.9723896175509079\n"
     ]
    }
   ],
   "source": [
    "from sklearn.ensemble import RandomForestClassifier\n",
    "\n",
    "rf = RandomForestClassifier(max_depth=5, random_state=SEED)\n",
    "model = rf.fit(x_train, y_train)\n",
    "y_pred = rf.predict(x_test)\n",
    "\n",
    "print('Acurácia', metrics.accuracy_score(y_test,y_pred))\n",
    "print('precisao', metrics.precision_score(y_test,y_pred))\n",
    "print('recall', metrics.recall_score(y_test,y_pred))\n",
    "print('f1', metrics.f1_score(y_test,y_pred))"
   ]
  },
  {
   "cell_type": "code",
   "execution_count": 42,
   "id": "65261e47",
   "metadata": {},
   "outputs": [
    {
     "data": {
      "text/plain": [
       "<sklearn.metrics._plot.confusion_matrix.ConfusionMatrixDisplay at 0x281e31b3d60>"
      ]
     },
     "execution_count": 42,
     "metadata": {},
     "output_type": "execute_result"
    },
    {
     "data": {
      "image/png": "[encoded data removed]",
      "text/plain": [
       "<Figure size 864x576 with 2 Axes>"
      ]
     },
     "metadata": {
      "needs_background": "light"
     },
     "output_type": "display_data"
    }
   ],
   "source": [
    "cm = confusion_matrix(y_test,y_pred)\n",
    "disp= ConfusionMatrixDisplay(confusion_matrix=cm)\n",
    "disp.plot()"
   ]
  },
  {
   "cell_type": "code",
   "execution_count": 43,
   "id": "1a00a98e",
   "metadata": {},
   "outputs": [
    {
     "data": {
      "text/plain": [
       "<matplotlib.legend.Legend at 0x281f003d790>"
      ]
     },
     "execution_count": 43,
     "metadata": {},
     "output_type": "execute_result"
    },
    {
     "data": {
      "image/png": "[encoded data removed]",
      "text/plain": [
       "<Figure size 864x576 with 1 Axes>"
      ]
     },
     "metadata": {
      "needs_background": "light"
     },
     "output_type": "display_data"
    }
   ],
   "source": [
    "y_pred_proba = rf.predict_proba(x_test)[::,1]\n",
    "fpr, tpr, _ = metrics.roc_curve(y_test,y_pred_proba)\n",
    "auc = metrics.roc_auc_score(y_test, y_pred_proba)\n",
    "\n",
    "plt.rcParams['figure.figsize'] = (12.,8.)\n",
    "plt.plot(fpr, tpr, label='LR, auc='+str(auc))\n",
    "plt.plot([0,1], [0,1], color='red', lw=2, linestyle = '--')\n",
    "plt.legend(loc=4)"
   ]
  },
  {
   "cell_type": "markdown",
   "id": "9dc96d04",
   "metadata": {},
   "source": [
    "# Análise de métricas\n"
   ]
  },
  {
   "cell_type": "code",
   "execution_count": 44,
   "id": "ba5b3b69",
   "metadata": {},
   "outputs": [],
   "source": [
    "classifiers = [\n",
    "    LogisticRegression(max_iter=1000, random_state=SEED),\n",
    "    DecisionTreeClassifier(max_depth=5,random_state=SEED),\n",
    "    RandomForestClassifier(max_depth=5, random_state=SEED)\n",
    "]"
   ]
  },
  {
   "cell_type": "code",
   "execution_count": 45,
   "id": "61f0ff14",
   "metadata": {},
   "outputs": [
    {
     "name": "stdout",
     "output_type": "stream",
     "text": [
      "==============================\n",
      "LogisticRegression\n",
      "****Resultados****\n",
      "Acurácia 0.9417722516699837\n",
      "precisao 0.9241993556945234\n",
      "recall 0.9623125493291239\n",
      "f1 0.9428709521507975\n",
      "==============================\n",
      "DecisionTreeClassifier\n",
      "****Resultados****\n",
      "Acurácia 0.9622849711324362\n",
      "precisao 0.9381639982043992\n",
      "recall 0.9897000789265983\n",
      "f1 0.9632432017206943\n",
      "==============================\n",
      "RandomForestClassifier\n",
      "****Resultados****\n",
      "Acurácia 0.9723738398786183\n",
      "precisao 0.9705165500432424\n",
      "recall 0.9742699289660616\n",
      "f1 0.9723896175509079\n"
     ]
    },
    {
     "data": {
      "image/png": "[encoded data removed]",
      "text/plain": [
       "<Figure size 864x576 with 2 Axes>"
      ]
     },
     "metadata": {
      "needs_background": "light"
     },
     "output_type": "display_data"
    },
    {
     "data": {
      "image/png": "[encoded data removed]",
      "text/plain": [
       "<Figure size 864x576 with 2 Axes>"
      ]
     },
     "metadata": {
      "needs_background": "light"
     },
     "output_type": "display_data"
    },
    {
     "data": {
      "image/png": "[encoded data removed]",
      "text/plain": [
       "<Figure size 864x576 with 2 Axes>"
      ]
     },
     "metadata": {
      "needs_background": "light"
     },
     "output_type": "display_data"
    }
   ],
   "source": [
    "for clf in classifiers:\n",
    "    clf.fit(x_train,y_train)\n",
    "    nome=clf.__class__.__name__\n",
    "    print('='*30)\n",
    "    print(nome)\n",
    "    print('****Resultados****')\n",
    "    y_pred = clf.predict(x_test)\n",
    "    print('Acurácia', metrics.accuracy_score(y_test,y_pred))\n",
    "    print('precisao', metrics.precision_score(y_test,y_pred))\n",
    "    print('recall', metrics.recall_score(y_test,y_pred))\n",
    "    print('f1', metrics.f1_score(y_test,y_pred))\n",
    "    \n",
    "    cm = confusion_matrix(y_test,y_pred)\n",
    "    disp= ConfusionMatrixDisplay(confusion_matrix=cm)\n",
    "    disp.plot()"
   ]
  },
  {
   "cell_type": "markdown",
   "id": "d783399a",
   "metadata": {},
   "source": [
    "# Melhorando RF"
   ]
  },
  {
   "cell_type": "code",
   "execution_count": 46,
   "id": "c85c1d22",
   "metadata": {},
   "outputs": [],
   "source": [
    "import numpy as np\n",
    "n_estimators = np.arange(20,200,step =20)\n",
    "criterion =['gini','entropy']\n",
    "max_features = ['auto', 'sqrt', 'log2']\n",
    "max_depth = list(np.arange(2,10, step=1))\n",
    "min_samples_split = np.arange(2,10, step=2)\n",
    "min_samples_leaf = [1,2,4]\n",
    "bootstrap = [True, False]"
   ]
  },
  {
   "cell_type": "code",
   "execution_count": 47,
   "id": "4b0aeb8b",
   "metadata": {},
   "outputs": [],
   "source": [
    "param_grid = {\n",
    "    \"n_estimators\" : n_estimators,\n",
    "    'criterion': criterion,\n",
    "    'max_features': max_features,\n",
    "    'max_depth' : max_depth,\n",
    "    'min_samples_split': min_samples_split,\n",
    "    'min_samples_leaf' : min_samples_leaf,\n",
    "    'bootstrap' : bootstrap\n",
    "}"
   ]
  },
  {
   "cell_type": "code",
   "execution_count": 48,
   "id": "3cf321ed",
   "metadata": {},
   "outputs": [],
   "source": [
    "from sklearn.model_selection import RandomizedSearchCV\n",
    "\n",
    "SEED=70\n",
    "\n",
    "rforest = RandomForestClassifier(random_state=SEED)"
   ]
  },
  {
   "cell_type": "code",
   "execution_count": 49,
   "id": "02726396",
   "metadata": {},
   "outputs": [],
   "source": [
    "random_cv = RandomizedSearchCV(\n",
    "    rforest, param_grid, n_iter=5, cv=3, scoring='recall', n_jobs=-1, random_state=SEED\n",
    ")"
   ]
  },
  {
   "cell_type": "code",
   "execution_count": 50,
   "id": "73661f4e",
   "metadata": {},
   "outputs": [
    {
     "name": "stdout",
     "output_type": "stream",
     "text": [
      "Wall time: 47.9 s\n"
     ]
    }
   ],
   "source": [
    "%%time\n",
    "rcv = random_cv.fit(x,y)"
   ]
  },
  {
   "cell_type": "code",
   "execution_count": 51,
   "id": "ebc161e9",
   "metadata": {},
   "outputs": [
    {
     "data": {
      "text/html": [
       "<div>\n",
       "<style scoped>\n",
       "    .dataframe tbody tr th:only-of-type {\n",
       "        vertical-align: middle;\n",
       "    }\n",
       "\n",
       "    .dataframe tbody tr th {\n",
       "        vertical-align: top;\n",
       "    }\n",
       "\n",
       "    .dataframe thead th {\n",
       "        text-align: right;\n",
       "    }\n",
       "</style>\n",
       "<table border=\"1\" class=\"dataframe\">\n",
       "  <thead>\n",
       "    <tr style=\"text-align: right;\">\n",
       "      <th></th>\n",
       "      <th>mean_fit_time</th>\n",
       "      <th>std_fit_time</th>\n",
       "      <th>mean_score_time</th>\n",
       "      <th>std_score_time</th>\n",
       "      <th>param_n_estimators</th>\n",
       "      <th>param_min_samples_split</th>\n",
       "      <th>param_min_samples_leaf</th>\n",
       "      <th>param_max_features</th>\n",
       "      <th>param_max_depth</th>\n",
       "      <th>param_criterion</th>\n",
       "      <th>param_bootstrap</th>\n",
       "      <th>params</th>\n",
       "      <th>split0_test_score</th>\n",
       "      <th>split1_test_score</th>\n",
       "      <th>split2_test_score</th>\n",
       "      <th>mean_test_score</th>\n",
       "      <th>std_test_score</th>\n",
       "      <th>rank_test_score</th>\n",
       "    </tr>\n",
       "  </thead>\n",
       "  <tbody>\n",
       "    <tr>\n",
       "      <th>0</th>\n",
       "      <td>25.339354</td>\n",
       "      <td>0.974252</td>\n",
       "      <td>0.518667</td>\n",
       "      <td>0.005791</td>\n",
       "      <td>120</td>\n",
       "      <td>4</td>\n",
       "      <td>2</td>\n",
       "      <td>auto</td>\n",
       "      <td>9</td>\n",
       "      <td>gini</td>\n",
       "      <td>False</td>\n",
       "      <td>{'n_estimators': 120, 'min_samples_split': 4, ...</td>\n",
       "      <td>0.991665</td>\n",
       "      <td>0.999438</td>\n",
       "      <td>0.992817</td>\n",
       "      <td>0.994640</td>\n",
       "      <td>0.003425</td>\n",
       "      <td>2</td>\n",
       "    </tr>\n",
       "    <tr>\n",
       "      <th>1</th>\n",
       "      <td>10.885666</td>\n",
       "      <td>0.855865</td>\n",
       "      <td>0.782999</td>\n",
       "      <td>0.089412</td>\n",
       "      <td>120</td>\n",
       "      <td>4</td>\n",
       "      <td>2</td>\n",
       "      <td>auto</td>\n",
       "      <td>2</td>\n",
       "      <td>gini</td>\n",
       "      <td>False</td>\n",
       "      <td>{'n_estimators': 120, 'min_samples_split': 4, ...</td>\n",
       "      <td>0.914223</td>\n",
       "      <td>0.936009</td>\n",
       "      <td>0.862704</td>\n",
       "      <td>0.904312</td>\n",
       "      <td>0.030736</td>\n",
       "      <td>5</td>\n",
       "    </tr>\n",
       "    <tr>\n",
       "      <th>2</th>\n",
       "      <td>11.685665</td>\n",
       "      <td>0.102132</td>\n",
       "      <td>0.339000</td>\n",
       "      <td>0.018404</td>\n",
       "      <td>40</td>\n",
       "      <td>8</td>\n",
       "      <td>1</td>\n",
       "      <td>sqrt</td>\n",
       "      <td>7</td>\n",
       "      <td>entropy</td>\n",
       "      <td>False</td>\n",
       "      <td>{'n_estimators': 40, 'min_samples_split': 8, '...</td>\n",
       "      <td>0.980285</td>\n",
       "      <td>1.000000</td>\n",
       "      <td>0.973812</td>\n",
       "      <td>0.984699</td>\n",
       "      <td>0.011138</td>\n",
       "      <td>3</td>\n",
       "    </tr>\n",
       "    <tr>\n",
       "      <th>3</th>\n",
       "      <td>22.214334</td>\n",
       "      <td>1.070740</td>\n",
       "      <td>0.652334</td>\n",
       "      <td>0.045616</td>\n",
       "      <td>100</td>\n",
       "      <td>8</td>\n",
       "      <td>4</td>\n",
       "      <td>log2</td>\n",
       "      <td>9</td>\n",
       "      <td>entropy</td>\n",
       "      <td>True</td>\n",
       "      <td>{'n_estimators': 100, 'min_samples_split': 8, ...</td>\n",
       "      <td>0.993497</td>\n",
       "      <td>0.999025</td>\n",
       "      <td>0.992226</td>\n",
       "      <td>0.994916</td>\n",
       "      <td>0.002951</td>\n",
       "      <td>1</td>\n",
       "    </tr>\n",
       "    <tr>\n",
       "      <th>4</th>\n",
       "      <td>11.804667</td>\n",
       "      <td>0.215336</td>\n",
       "      <td>0.705999</td>\n",
       "      <td>0.041961</td>\n",
       "      <td>160</td>\n",
       "      <td>6</td>\n",
       "      <td>2</td>\n",
       "      <td>log2</td>\n",
       "      <td>2</td>\n",
       "      <td>gini</td>\n",
       "      <td>False</td>\n",
       "      <td>{'n_estimators': 160, 'min_samples_split': 6, ...</td>\n",
       "      <td>0.914223</td>\n",
       "      <td>0.943487</td>\n",
       "      <td>0.876537</td>\n",
       "      <td>0.911416</td>\n",
       "      <td>0.027404</td>\n",
       "      <td>4</td>\n",
       "    </tr>\n",
       "  </tbody>\n",
       "</table>\n",
       "</div>"
      ],
      "text/plain": [
       "   mean_fit_time  std_fit_time  mean_score_time  std_score_time  \\\n",
       "0      25.339354      0.974252         0.518667        0.005791   \n",
       "1      10.885666      0.855865         0.782999        0.089412   \n",
       "2      11.685665      0.102132         0.339000        0.018404   \n",
       "3      22.214334      1.070740         0.652334        0.045616   \n",
       "4      11.804667      0.215336         0.705999        0.041961   \n",
       "\n",
       "  param_n_estimators param_min_samples_split param_min_samples_leaf  \\\n",
       "0                120                       4                      2   \n",
       "1                120                       4                      2   \n",
       "2                 40                       8                      1   \n",
       "3                100                       8                      4   \n",
       "4                160                       6                      2   \n",
       "\n",
       "  param_max_features param_max_depth param_criterion param_bootstrap  \\\n",
       "0               auto               9            gini           False   \n",
       "1               auto               2            gini           False   \n",
       "2               sqrt               7         entropy           False   \n",
       "3               log2               9         entropy            True   \n",
       "4               log2               2            gini           False   \n",
       "\n",
       "                                              params  split0_test_score  \\\n",
       "0  {'n_estimators': 120, 'min_samples_split': 4, ...           0.991665   \n",
       "1  {'n_estimators': 120, 'min_samples_split': 4, ...           0.914223   \n",
       "2  {'n_estimators': 40, 'min_samples_split': 8, '...           0.980285   \n",
       "3  {'n_estimators': 100, 'min_samples_split': 8, ...           0.993497   \n",
       "4  {'n_estimators': 160, 'min_samples_split': 6, ...           0.914223   \n",
       "\n",
       "   split1_test_score  split2_test_score  mean_test_score  std_test_score  \\\n",
       "0           0.999438           0.992817         0.994640        0.003425   \n",
       "1           0.936009           0.862704         0.904312        0.030736   \n",
       "2           1.000000           0.973812         0.984699        0.011138   \n",
       "3           0.999025           0.992226         0.994916        0.002951   \n",
       "4           0.943487           0.876537         0.911416        0.027404   \n",
       "\n",
       "   rank_test_score  \n",
       "0                2  \n",
       "1                5  \n",
       "2                3  \n",
       "3                1  \n",
       "4                4  "
      ]
     },
     "execution_count": 51,
     "metadata": {},
     "output_type": "execute_result"
    }
   ],
   "source": [
    "pd.DataFrame(rcv.cv_results_)"
   ]
  },
  {
   "cell_type": "code",
   "execution_count": 52,
   "id": "a2ab0d45",
   "metadata": {},
   "outputs": [
    {
     "data": {
      "text/plain": [
       "{'n_estimators': 100,\n",
       " 'min_samples_split': 8,\n",
       " 'min_samples_leaf': 4,\n",
       " 'max_features': 'log2',\n",
       " 'max_depth': 9,\n",
       " 'criterion': 'entropy',\n",
       " 'bootstrap': True}"
      ]
     },
     "execution_count": 52,
     "metadata": {},
     "output_type": "execute_result"
    }
   ],
   "source": [
    "rcv.best_params_"
   ]
  },
  {
   "cell_type": "code",
   "execution_count": 53,
   "id": "62793e69",
   "metadata": {},
   "outputs": [],
   "source": [
    "rfn = RandomForestClassifier(**rcv.best_params_, random_state= SEED)\n",
    "\n",
    "model = rfn.fit(x_train, y_train)\n",
    "y_pred = rfn.predict(x_test)"
   ]
  },
  {
   "cell_type": "code",
   "execution_count": 54,
   "id": "9ed8efce",
   "metadata": {},
   "outputs": [
    {
     "name": "stdout",
     "output_type": "stream",
     "text": [
      "Acurácia 0.9915860411042582\n",
      "precisao 0.9906258615936036\n",
      "recall 0.9925414364640884\n",
      "f1 0.9915827238857459\n"
     ]
    }
   ],
   "source": [
    "print('Acurácia', metrics.accuracy_score(y_test,y_pred))\n",
    "print('precisao', metrics.precision_score(y_test,y_pred))\n",
    "print('recall', metrics.recall_score(y_test,y_pred))\n",
    "print('f1', metrics.f1_score(y_test,y_pred))"
   ]
  },
  {
   "cell_type": "code",
   "execution_count": 55,
   "id": "2256a8f5",
   "metadata": {},
   "outputs": [
    {
     "data": {
      "text/plain": [
       "<sklearn.metrics._plot.confusion_matrix.ConfusionMatrixDisplay at 0x281f3803df0>"
      ]
     },
     "execution_count": 55,
     "metadata": {},
     "output_type": "execute_result"
    },
    {
     "data": {
      "image/png": "[encoded data removed]",
      "text/plain": [
       "<Figure size 864x576 with 2 Axes>"
      ]
     },
     "metadata": {
      "needs_background": "light"
     },
     "output_type": "display_data"
    }
   ],
   "source": [
    "cm = confusion_matrix(y_test,y_pred)\n",
    "disp= ConfusionMatrixDisplay(confusion_matrix=cm)\n",
    "disp.plot()"
   ]
  },
  {
   "cell_type": "code",
   "execution_count": 56,
   "id": "c0eb0c46",
   "metadata": {},
   "outputs": [],
   "source": [
    "SEED = 70\n",
    "\n",
    "n_estimators = np.arange(20, 200, step=20)\n",
    "criterion = [\"gini\", \"entropy\"]\n",
    "max_features = [\"sqrt\", \"log2\"]\n",
    "max_depth = list(np.arange(2, 10, step=1))\n",
    "min_samples_split = np.arange(2, 10, step=2)\n",
    "min_samples_leaf = [1, 2, 4]\n",
    "bootstrap = [True, False]\n",
    "\n",
    "param_grid = {\n",
    "    \"n_estimators\": n_estimators,\n",
    "    \"criterion\": criterion,\n",
    "    \"max_features\": max_features,\n",
    "    \"max_depth\": max_depth,\n",
    "    \"min_samples_split\": min_samples_split,\n",
    "    \"min_samples_leaf\": min_samples_leaf,\n",
    "    \"bootstrap\": bootstrap,\n",
    "}\n",
    "\n",
    "from sklearn.model_selection import RandomizedSearchCV\n",
    "\n",
    "rforest = RandomForestClassifier(random_state=SEED)\n",
    "\n",
    "random_cv = RandomizedSearchCV(\n",
    "    rforest, param_grid, n_iter=8, cv=4, scoring=\"recall\", n_jobs=-1, random_state = SEED\n",
    ")\n",
    "\n",
    "rcv = random_cv.fit(x, y)"
   ]
  },
  {
   "cell_type": "code",
   "execution_count": 57,
   "id": "55c1ce9c",
   "metadata": {},
   "outputs": [
    {
     "data": {
      "text/plain": [
       "{'n_estimators': 100,\n",
       " 'min_samples_split': 8,\n",
       " 'min_samples_leaf': 4,\n",
       " 'max_features': 'log2',\n",
       " 'max_depth': 9,\n",
       " 'criterion': 'gini',\n",
       " 'bootstrap': False}"
      ]
     },
     "execution_count": 57,
     "metadata": {},
     "output_type": "execute_result"
    }
   ],
   "source": [
    "rcv.best_params_"
   ]
  },
  {
   "cell_type": "code",
   "execution_count": null,
   "id": "16882040",
   "metadata": {},
   "outputs": [],
   "source": []
  }
 ],
 "metadata": {
  "kernelspec": {
   "display_name": "Python 3 (ipykernel)",
   "language": "python",
   "name": "python3"
  },
  "language_info": {
   "codemirror_mode": {
    "name": "ipython",
    "version": 3
   },
   "file_extension": ".py",
   "mimetype": "text/x-python",
   "name": "python",
   "nbconvert_exporter": "python",
   "pygments_lexer": "ipython3",
   "version": "3.9.7"
  }
 },
 "nbformat": 4,
 "nbformat_minor": 5
}
